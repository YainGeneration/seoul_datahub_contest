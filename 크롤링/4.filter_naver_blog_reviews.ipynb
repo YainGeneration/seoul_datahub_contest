{
 "cells": [
  {
   "cell_type": "code",
   "execution_count": 145,
   "id": "983f6ca2",
   "metadata": {},
   "outputs": [
    {
     "data": {
      "text/html": [
       "<div>\n",
       "<style scoped>\n",
       "    .dataframe tbody tr th:only-of-type {\n",
       "        vertical-align: middle;\n",
       "    }\n",
       "\n",
       "    .dataframe tbody tr th {\n",
       "        vertical-align: top;\n",
       "    }\n",
       "\n",
       "    .dataframe thead th {\n",
       "        text-align: right;\n",
       "    }\n",
       "</style>\n",
       "<table border=\"1\" class=\"dataframe\">\n",
       "  <thead>\n",
       "    <tr style=\"text-align: right;\">\n",
       "      <th></th>\n",
       "      <th>search_query</th>\n",
       "      <th>title</th>\n",
       "      <th>content</th>\n",
       "      <th>date</th>\n",
       "      <th>blog_url</th>\n",
       "      <th>park_name</th>\n",
       "    </tr>\n",
       "  </thead>\n",
       "  <tbody>\n",
       "    <tr>\n",
       "      <th>0</th>\n",
       "      <td>도산근린공원 후기</td>\n",
       "      <td>서울나들이 도산공원 안창호기념관 후기 역사체험추천</td>\n",
       "      <td>서울나들이\\n아이들 역사공부하기 좋은 곳\\n도산공원\\n안창호 기념관\\n도산 안창호 ...</td>\n",
       "      <td>2022. 3. 7.</td>\n",
       "      <td>https://blog.naver.com/wjdangid83/223350393012</td>\n",
       "      <td>도산근린공원</td>\n",
       "    </tr>\n",
       "    <tr>\n",
       "      <th>1</th>\n",
       "      <td>도산근린공원 후기</td>\n",
       "      <td>도산공원 강남 공원 서울 도심 숨겨진 명소 도산근린공원을 가다</td>\n",
       "      <td>도산근린공원\\n서울 도심의 숨겨진 명소\\n도산공원 나들이\\n복잡한 서울 도심 한복판...</td>\n",
       "      <td>2023. 4. 14. 18:09</td>\n",
       "      <td>https://blog.naver.com/homilbbangbooboo/223074...</td>\n",
       "      <td>도산근린공원</td>\n",
       "    </tr>\n",
       "    <tr>\n",
       "      <th>2</th>\n",
       "      <td>도산근린공원 후기</td>\n",
       "      <td>압구정 도산공원 산책로 서울 역사탐방 도산 안창호 기념관 관람후기</td>\n",
       "      <td>도산안창호선생기념사업회\\n도산 안창호 기념관\\n도산근린공원\\n✔️ 관람장소 : 도산...</td>\n",
       "      <td>2024. 3. 8. 19:35</td>\n",
       "      <td>https://blog.naver.com/uniqueuni/223377455092</td>\n",
       "      <td>도산근린공원</td>\n",
       "    </tr>\n",
       "    <tr>\n",
       "      <th>3</th>\n",
       "      <td>도산근린공원 후기</td>\n",
       "      <td>압구정로데오 ‘도산공원’ 안창호기념관 방문후기</td>\n",
       "      <td>[230817]\\n도산근린공원\\n도산기념관\\n● 도산공원🏞️\\n🏠 서울시 강남구 도...</td>\n",
       "      <td>2023. 8. 17. 18:17</td>\n",
       "      <td>https://blog.naver.com/zumi_s01/223186277142</td>\n",
       "      <td>도산근린공원</td>\n",
       "    </tr>\n",
       "    <tr>\n",
       "      <th>4</th>\n",
       "      <td>도산근린공원 후기</td>\n",
       "      <td>[서울 강남구] 걸음은 가볍지만 마음은 무거웠던 도산 공원 산보 후기 (feat. ...</td>\n",
       "      <td>안녕하세요.\\n호림 박물관 신사 분관을\\n관람하고 나서니\\n도산공원 비석이\\n저의 ...</td>\n",
       "      <td>2023. 12. 19.</td>\n",
       "      <td>https://blog.naver.com/8-dofourseasons/2235786...</td>\n",
       "      <td>도산근린공원</td>\n",
       "    </tr>\n",
       "  </tbody>\n",
       "</table>\n",
       "</div>"
      ],
      "text/plain": [
       "  search_query                                              title  \\\n",
       "0    도산근린공원 후기                        서울나들이 도산공원 안창호기념관 후기 역사체험추천   \n",
       "1    도산근린공원 후기                 도산공원 강남 공원 서울 도심 숨겨진 명소 도산근린공원을 가다   \n",
       "2    도산근린공원 후기               압구정 도산공원 산책로 서울 역사탐방 도산 안창호 기념관 관람후기   \n",
       "3    도산근린공원 후기                          압구정로데오 ‘도산공원’ 안창호기념관 방문후기   \n",
       "4    도산근린공원 후기  [서울 강남구] 걸음은 가볍지만 마음은 무거웠던 도산 공원 산보 후기 (feat. ...   \n",
       "\n",
       "                                             content                date  \\\n",
       "0  서울나들이\\n아이들 역사공부하기 좋은 곳\\n도산공원\\n안창호 기념관\\n도산 안창호 ...         2022. 3. 7.   \n",
       "1  도산근린공원\\n서울 도심의 숨겨진 명소\\n도산공원 나들이\\n복잡한 서울 도심 한복판...  2023. 4. 14. 18:09   \n",
       "2  도산안창호선생기념사업회\\n도산 안창호 기념관\\n도산근린공원\\n✔️ 관람장소 : 도산...   2024. 3. 8. 19:35   \n",
       "3  [230817]\\n도산근린공원\\n도산기념관\\n● 도산공원🏞️\\n🏠 서울시 강남구 도...  2023. 8. 17. 18:17   \n",
       "4  안녕하세요.\\n호림 박물관 신사 분관을\\n관람하고 나서니\\n도산공원 비석이\\n저의 ...       2023. 12. 19.   \n",
       "\n",
       "                                            blog_url park_name  \n",
       "0     https://blog.naver.com/wjdangid83/223350393012    도산근린공원  \n",
       "1  https://blog.naver.com/homilbbangbooboo/223074...    도산근린공원  \n",
       "2      https://blog.naver.com/uniqueuni/223377455092    도산근린공원  \n",
       "3       https://blog.naver.com/zumi_s01/223186277142    도산근린공원  \n",
       "4  https://blog.naver.com/8-dofourseasons/2235786...    도산근린공원  "
      ]
     },
     "execution_count": 145,
     "metadata": {},
     "output_type": "execute_result"
    }
   ],
   "source": [
    "import pandas as pd\n",
    "\n",
    "# 크롤링된 데이터 불러오기\n",
    "df = pd.read_csv(\"naver_blog_reviews.csv\")\n",
    "df.shape  # 행 수와 열 수 확인\n",
    "df.head()  # 데이터 미리 보기\n"
   ]
  },
  {
   "cell_type": "code",
   "execution_count": 146,
   "id": "8abdd8e0",
   "metadata": {},
   "outputs": [],
   "source": [
    "def contains_any_keyword(text, keyword_list):\n",
    "    return any(keyword in text for keyword in keyword_list)\n"
   ]
  },
  {
   "cell_type": "code",
   "execution_count": 147,
   "id": "61e0ec02",
   "metadata": {},
   "outputs": [],
   "source": [
    "# 예시 키워드 (원하는 대로 수정 가능)\n",
    "# irrelevant_keywords = [\n",
    "#     \"맛집\", \"카페\", \"레스토랑\", \"식당\", \"커피\", \"디저트\",\n",
    "#     \"임대\", \"부동산\", \"사무실\", \"월세\", \"상가\",\n",
    "#     \"속눈썹\", \"왁싱\", \"피부\", \"의료\", \"클리닉\",\n",
    "#     \"매물\", \"술집\", \"뷰티\", \"네일\", \"병원\", \"피부과\",\n",
    "#     \"헬스장\", \"헬스\", \"헬스클럽\", \"스파\", \"마사지\",\n",
    "#     \"분양\", \"아파트\", \"오피스텔\", \"분양권\",\n",
    "#     \"옷\", \"가방\", \"광고\", \"협찬\", \"이벤트\", \"체험단\", \"배송\", \"제품\", \n",
    "#     \"리뷰어\", \"쇼핑몰\", \"구매\", \"브랜드\", \"패션\", \"화장품\", \n",
    "#     \"뷰티\", \"스킨케어\", \"마스크팩\", \"택배\", \"제품후기\", \"할인\"\n",
    "# ]\n",
    "strict_irrelevant_keywords = [\n",
    "    \"임대\", \"부동산\", \"사무실\", \"월세\", \"상가\",\n",
    "    \"왁싱\", \"의료\", \"클리닉\",\n",
    "    \"분양\", \"아파트\", \"오피스텔\", \"분양권\",\n",
    "    \"택배\", \"쇼핑몰\", \"브랜드\", \"리뷰어\", \"체험단\"\n",
    "]\n"
   ]
  },
  {
   "cell_type": "code",
   "execution_count": 148,
   "id": "0bd7eb23",
   "metadata": {},
   "outputs": [
    {
     "name": "stdout",
     "output_type": "stream",
     "text": [
      "필터링 전: 1088개 → 필터링 후: 874개\n"
     ]
    }
   ],
   "source": [
    "# 관련 없는 행 제거\n",
    "filtered_df = df[~df[\"content\"].apply(lambda x: contains_any_keyword(str(x), strict_irrelevant_keywords))]\n",
    "\n",
    "# 결과 확인\n",
    "print(f\"필터링 전: {len(df)}개 → 필터링 후: {len(filtered_df)}개\")\n"
   ]
  },
  {
   "cell_type": "code",
   "execution_count": 149,
   "id": "f01099a9",
   "metadata": {},
   "outputs": [
    {
     "name": "stdout",
     "output_type": "stream",
     "text": [
      "필터링된 결과 저장 완료: naver_blog_reviews_filtered.csv\n"
     ]
    }
   ],
   "source": [
    "filtered_df.to_csv(\"naver_blog_reviews_filtered.csv\", index=False)\n",
    "print(\"필터링된 결과 저장 완료: naver_blog_reviews_filtered.csv\")\n"
   ]
  },
  {
   "cell_type": "code",
   "execution_count": 150,
   "id": "23f53440",
   "metadata": {},
   "outputs": [
    {
     "name": "stdout",
     "output_type": "stream",
     "text": [
      "park_name\n",
      "서울로             45\n",
      "북한산국립공원(북한산)    43\n",
      "경의선숲길           43\n",
      "낙산공원            43\n",
      "양화한강공원          42\n",
      "남산공원            41\n",
      "난지한강공원          39\n",
      "강서한강공원          39\n",
      "광나루한강공원         39\n",
      "뚝섬한강공원          39\n",
      "Name: count, dtype: int64\n",
      "park_name\n",
      "인왕산도시자연공원(인왕산)    35\n",
      "용산가족공원            35\n",
      "잠원한강공원            34\n",
      "효창근린공원(효창공원)      33\n",
      "송파나루근린공원(석촌호수)    33\n",
      "반포한강공원            31\n",
      "잠실한강공원            30\n",
      "이촌한강공원            28\n",
      "도산근린공원            27\n",
      "율현공원              23\n",
      "Name: count, dtype: int64\n"
     ]
    }
   ],
   "source": [
    "df = pd.read_csv(\"naver_blog_reviews_filtered.csv\")\n",
    "park_counts = df[\"park_name\"].value_counts()\n",
    "\n",
    "# print(park_counts.describe())\n",
    "print(park_counts.head(10))  # 상위 10개 공원 확인\n",
    "print(park_counts.tail(10))  # 상위 10개 공원 확인"
   ]
  }
 ],
 "metadata": {
  "kernelspec": {
   "display_name": "yein",
   "language": "python",
   "name": "python3"
  },
  "language_info": {
   "codemirror_mode": {
    "name": "ipython",
    "version": 3
   },
   "file_extension": ".py",
   "mimetype": "text/x-python",
   "name": "python",
   "nbconvert_exporter": "python",
   "pygments_lexer": "ipython3",
   "version": "3.11.13"
  }
 },
 "nbformat": 4,
 "nbformat_minor": 5
}
